{
 "cells": [
  {
   "cell_type": "code",
   "execution_count": 8,
   "id": "415bbd82-a7f7-4579-97f5-12a4358ee134",
   "metadata": {},
   "outputs": [
    {
     "name": "stdin",
     "output_type": "stream",
     "text": [
      "Please enter your eductation, format must be number like:12 12\n"
     ]
    },
    {
     "name": "stdout",
     "output_type": "stream",
     "text": [
      "Name : Qasim\n",
      "Education : 12\n"
     ]
    }
   ],
   "source": [
    "student_education = int(input('Please enter your eductation, format must be number like:12'))\n",
    "class Student():\n",
    "    def __init__(self,name,student_education):\n",
    "        if student_education<12:\n",
    "            raise StudentEducation(\"Student Education be Intermediat or above\")\n",
    "        self.name = name\n",
    "        self.education = student_education\n",
    "        \n",
    "class StudentEducation(Exception):\n",
    "    pass\n",
    "        \n",
    "try:\n",
    "    s1 = Student(\"Qasim\",student_education)\n",
    "    print(f\"Name : {s1.name}\")\n",
    "    print(f\"Education : {s1.education}\")\n",
    "except Exception as e:\n",
    "    print(\"Error\",e)\n",
    "    \n"
   ]
  }
 ],
 "metadata": {
  "kernelspec": {
   "display_name": "Python 3 (ipykernel)",
   "language": "python",
   "name": "python3"
  },
  "language_info": {
   "codemirror_mode": {
    "name": "ipython",
    "version": 3
   },
   "file_extension": ".py",
   "mimetype": "text/x-python",
   "name": "python",
   "nbconvert_exporter": "python",
   "pygments_lexer": "ipython3",
   "version": "3.9.13"
  }
 },
 "nbformat": 4,
 "nbformat_minor": 5
}
